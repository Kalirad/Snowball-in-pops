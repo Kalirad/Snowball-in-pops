{
 "cells": [
  {
   "cell_type": "markdown",
   "metadata": {},
   "source": [
    "# Individual-based simulation of speciation"
   ]
  },
  {
   "cell_type": "markdown",
   "metadata": {},
   "source": [
    "This code consists of three classes: RNASeq, Population, and TwoPops. Population class represnts a population as a collection of RNASeq objects. "
   ]
  },
  {
   "cell_type": "code",
   "execution_count": 90,
   "metadata": {},
   "outputs": [
    {
     "name": "stdout",
     "output_type": "stream",
     "text": [
      "\n"
     ]
    }
   ],
   "source": [
    "run RNA_pop.py"
   ]
  },
  {
   "cell_type": "markdown",
   "metadata": {},
   "source": [
    "#### Reference sequence, i.e., the sequence used to deem any sequence viable or inviable:"
   ]
  },
  {
   "cell_type": "code",
   "execution_count": 91,
   "metadata": {},
   "outputs": [],
   "source": [
    "ref_seq = 'UAGACUAUAAAGUACCGGGAUCUAUUGAAUGUUGGUACCCCUUUCGAGUGAUUGCGCCCCAGUCCGUGAACUAGGAUGCAUAUUUACCUAUUCAGAGGAU'"
   ]
  },
  {
   "cell_type": "code",
   "execution_count": 92,
   "metadata": {},
   "outputs": [],
   "source": [
    "pop = Population(ref_seq, pop_size=50)"
   ]
  },
  {
   "cell_type": "code",
   "execution_count": 74,
   "metadata": {},
   "outputs": [
    {
     "data": {
      "text/plain": [
       "[<__main__.RNASeq at 0x10a951ed0>,\n",
       " <__main__.RNASeq at 0x10a951ed0>,\n",
       " <__main__.RNASeq at 0x10a951ed0>,\n",
       " <__main__.RNASeq at 0x10a951ed0>,\n",
       " <__main__.RNASeq at 0x10a951ed0>,\n",
       " <__main__.RNASeq at 0x10a951ed0>,\n",
       " <__main__.RNASeq at 0x10a951ed0>,\n",
       " <__main__.RNASeq at 0x10a951ed0>,\n",
       " <__main__.RNASeq at 0x10a951ed0>,\n",
       " <__main__.RNASeq at 0x10a951ed0>,\n",
       " <__main__.RNASeq at 0x10a951ed0>,\n",
       " <__main__.RNASeq at 0x10a951ed0>,\n",
       " <__main__.RNASeq at 0x10a951ed0>,\n",
       " <__main__.RNASeq at 0x10a951ed0>,\n",
       " <__main__.RNASeq at 0x10a951ed0>,\n",
       " <__main__.RNASeq at 0x10a951ed0>,\n",
       " <__main__.RNASeq at 0x10a951ed0>,\n",
       " <__main__.RNASeq at 0x10a951ed0>,\n",
       " <__main__.RNASeq at 0x10a951ed0>,\n",
       " <__main__.RNASeq at 0x10a951ed0>,\n",
       " <__main__.RNASeq at 0x10a951ed0>,\n",
       " <__main__.RNASeq at 0x10a951ed0>,\n",
       " <__main__.RNASeq at 0x10a951ed0>,\n",
       " <__main__.RNASeq at 0x10a951ed0>,\n",
       " <__main__.RNASeq at 0x10a951ed0>,\n",
       " <__main__.RNASeq at 0x10a951ed0>,\n",
       " <__main__.RNASeq at 0x10a951ed0>,\n",
       " <__main__.RNASeq at 0x10a951ed0>,\n",
       " <__main__.RNASeq at 0x10a951ed0>,\n",
       " <__main__.RNASeq at 0x10a951ed0>,\n",
       " <__main__.RNASeq at 0x10a951ed0>,\n",
       " <__main__.RNASeq at 0x10a951ed0>,\n",
       " <__main__.RNASeq at 0x10a951ed0>,\n",
       " <__main__.RNASeq at 0x10a951ed0>,\n",
       " <__main__.RNASeq at 0x10a951ed0>,\n",
       " <__main__.RNASeq at 0x10a951ed0>,\n",
       " <__main__.RNASeq at 0x10a951ed0>,\n",
       " <__main__.RNASeq at 0x10a951ed0>,\n",
       " <__main__.RNASeq at 0x10a951ed0>,\n",
       " <__main__.RNASeq at 0x10a951ed0>,\n",
       " <__main__.RNASeq at 0x10a951ed0>,\n",
       " <__main__.RNASeq at 0x10a951ed0>,\n",
       " <__main__.RNASeq at 0x10a951ed0>,\n",
       " <__main__.RNASeq at 0x10a951ed0>,\n",
       " <__main__.RNASeq at 0x10a951ed0>,\n",
       " <__main__.RNASeq at 0x10a951ed0>,\n",
       " <__main__.RNASeq at 0x10a951ed0>,\n",
       " <__main__.RNASeq at 0x10a951ed0>,\n",
       " <__main__.RNASeq at 0x10a951ed0>,\n",
       " <__main__.RNASeq at 0x10a951ed0>]"
      ]
     },
     "execution_count": 74,
     "metadata": {},
     "output_type": "execute_result"
    }
   ],
   "source": [
    "pop.population"
   ]
  },
  {
   "cell_type": "code",
   "execution_count": 93,
   "metadata": {},
   "outputs": [
    {
     "data": {
      "text/plain": [
       "{'AGUUUAACGCGCUGCUAAGGGCAGGCUGUUCUUGGCAUCCCUUUGAGUUACUCACAUGGCGGUUUCGAGACUGCUCUGUCAACUGACCCGGCUAGAGGUG': 1.0}"
      ]
     },
     "execution_count": 93,
     "metadata": {},
     "output_type": "execute_result"
    }
   ],
   "source": [
    "pop.genotypes_dic"
   ]
  },
  {
   "cell_type": "code",
   "execution_count": 94,
   "metadata": {},
   "outputs": [],
   "source": [
    "evo = TwoPops(pop)"
   ]
  },
  {
   "cell_type": "code",
   "execution_count": 95,
   "metadata": {},
   "outputs": [
    {
     "name": "stdout",
     "output_type": "stream",
     "text": [
      "10 20 30 40 50 60 70 80 90 100\n"
     ]
    }
   ],
   "source": [
    "evo.evolve(gen=100, step=10, verbose=True)"
   ]
  },
  {
   "cell_type": "code",
   "execution_count": 97,
   "metadata": {},
   "outputs": [
    {
     "data": {
      "text/plain": [
       "[{}, {}, {}, {}, {}, {}, {}, {}, {}, {(5,): (['G'], 26)}, {}]"
      ]
     },
     "execution_count": 97,
     "metadata": {},
     "output_type": "execute_result"
    }
   ],
   "source": [
    "evo.single"
   ]
  },
  {
   "cell_type": "code",
   "execution_count": null,
   "metadata": {},
   "outputs": [],
   "source": []
  }
 ],
 "metadata": {
  "kernelspec": {
   "display_name": "Python 2",
   "language": "python",
   "name": "python2"
  },
  "language_info": {
   "codemirror_mode": {
    "name": "ipython",
    "version": 2
   },
   "file_extension": ".py",
   "mimetype": "text/x-python",
   "name": "python",
   "nbconvert_exporter": "python",
   "pygments_lexer": "ipython2",
   "version": "2.7.14"
  }
 },
 "nbformat": 4,
 "nbformat_minor": 2
}
