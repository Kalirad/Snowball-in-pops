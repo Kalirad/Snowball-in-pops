{
 "cells": [
  {
   "cell_type": "markdown",
   "metadata": {},
   "source": [
    "# Individual-based simulation of speciation"
   ]
  },
  {
   "cell_type": "markdown",
   "metadata": {},
   "source": [
    "This code consists of three classes: RNASeq, Population, and TwoPops. Population class represnts a population as a collection of RNASeq objects. "
   ]
  },
  {
   "cell_type": "code",
   "execution_count": 1,
   "metadata": {},
   "outputs": [],
   "source": [
    "import matplotlib.pyplot as plt\n",
    "%matplotlib inline  "
   ]
  },
  {
   "cell_type": "code",
   "execution_count": 29,
   "metadata": {},
   "outputs": [],
   "source": [
    "run RNA_pop_v6.py"
   ]
  },
  {
   "cell_type": "markdown",
   "metadata": {},
   "source": [
    "#### Reference sequence, i.e., the sequence used to deem any sequence viable or inviable:"
   ]
  },
  {
   "cell_type": "code",
   "execution_count": 30,
   "metadata": {},
   "outputs": [],
   "source": [
    "ref_seq = 'UAGACUAUAAAGUACCGGGAUCUAUUGAAUGUUGGUACCCCUUUCGAGUGAUUGCGCCCCAGUCCGUGAACUAGGAUGCAUAUUUACCUAUUCAGAGGAU'"
   ]
  },
  {
   "cell_type": "code",
   "execution_count": 31,
   "metadata": {},
   "outputs": [],
   "source": [
    "pop = Population(ref_seq, pop_size=10, mut_rate=1e-1, rec_rate=0.1)"
   ]
  },
  {
   "cell_type": "code",
   "execution_count": 32,
   "metadata": {},
   "outputs": [
    {
     "data": {
      "text/plain": [
       "62"
      ]
     },
     "execution_count": 32,
     "metadata": {},
     "output_type": "execute_result"
    }
   ],
   "source": [
    "RNASeq.get_hamdist(pop.ancestor.seq, pop.ref_seq.seq)"
   ]
  },
  {
   "cell_type": "code",
   "execution_count": 33,
   "metadata": {},
   "outputs": [
    {
     "data": {
      "text/plain": [
       "[62, 62, 62, 62, 62, 62, 62, 62, 62, 62]"
      ]
     },
     "execution_count": 33,
     "metadata": {},
     "output_type": "execute_result"
    }
   ],
   "source": [
    "[RNASeq.get_hamdist(pop.ref_seq.seq, RNASeq.convertor(i, inv=True)) for i in pop.population]"
   ]
  },
  {
   "cell_type": "code",
   "execution_count": 34,
   "metadata": {},
   "outputs": [],
   "source": [
    "evol = TwoPops(pop)"
   ]
  },
  {
   "cell_type": "code",
   "execution_count": 35,
   "metadata": {},
   "outputs": [
    {
     "name": "stdout",
     "output_type": "stream",
     "text": [
      "10 10 10\n",
      "20 10 10\n",
      "30 10 10\n",
      "40 10 10\n",
      "50 10 10\n"
     ]
    }
   ],
   "source": [
    "evol.evolve(50, step=10, verbose=True)"
   ]
  },
  {
   "cell_type": "code",
   "execution_count": 41,
   "metadata": {},
   "outputs": [
    {
     "data": {
      "text/plain": [
       "[10.0, 10.0, 10.0, 10.0, 10.0, 10.0]"
      ]
     },
     "execution_count": 41,
     "metadata": {},
     "output_type": "execute_result"
    }
   ],
   "source": [
    "evol.stats['rec_load']"
   ]
  },
  {
   "cell_type": "code",
   "execution_count": null,
   "metadata": {},
   "outputs": [],
   "source": [
    "import multiprocessing as mp"
   ]
  },
  {
   "cell_type": "code",
   "execution_count": null,
   "metadata": {},
   "outputs": [],
   "source": [
    "def evolve(ref, N, u, r, bp, m, gen):\n",
    "    pop = Population(ref, pop_size=N, mut_rate=u, rec_rate=r, alpha=bp)\n",
    "    evo = TwoPops(pop, mig_rate=m)\n",
    "    evo.evolve(gen, step=25)\n",
    "    evo.save_stats('/Users/Amfortas/Desktop/')"
   ]
  },
  {
   "cell_type": "code",
   "execution_count": null,
   "metadata": {},
   "outputs": [],
   "source": [
    "def main(N=100, u=1e-3, r=0.1, bp=12, m=0.0, gen=100):\n",
    "    num_process = 4\n",
    "    pool = mp.Pool(processes=num_process)\n",
    "    #results = [pool.apply_async(evolve, args=(ref_seq, N, u, r, bp, m, gen)) for x in np.arange(1, num_process + 1, 1)]\n",
    "    #results = [pool.apply_async(evolve, args=(ref_seq, N, u, r, bp, m, gen,)) for x in range(num_process)]\n",
    "    processes = [mp.Process(target=evolve, args=(ref_seq, N, u, r, bp, m, gen,)) for x in range(num_process)]\n",
    "    # Run processes\n",
    "    for p in processes:\n",
    "        p.start()\n",
    "    # Exit the completed processes\n",
    "    for p in processes:\n",
    "        p.join()"
   ]
  },
  {
   "cell_type": "code",
   "execution_count": null,
   "metadata": {},
   "outputs": [],
   "source": [
    "main()"
   ]
  },
  {
   "cell_type": "code",
   "execution_count": null,
   "metadata": {},
   "outputs": [],
   "source": [
    "for i in range(100):\n",
    "    print np.arange(i, i + 4, 1)"
   ]
  },
  {
   "cell_type": "code",
   "execution_count": null,
   "metadata": {},
   "outputs": [],
   "source": [
    "D = {}\n",
    "for i in [1e-3, 1e-4, 1e-5]:\n",
    "    pop = Population(ref_seq, pop_size=50, mut_rate=i, rec_rate=0.)\n",
    "    evol = TwoPops(pop)\n",
    "    evol.evolve(2000)\n",
    "    D[i] = evol.divergence\n",
    "    print i,"
   ]
  },
  {
   "cell_type": "code",
   "execution_count": null,
   "metadata": {},
   "outputs": [],
   "source": [
    "for i in D.keys():\n",
    "    print i, D[i]"
   ]
  },
  {
   "cell_type": "code",
   "execution_count": null,
   "metadata": {},
   "outputs": [],
   "source": [
    "sims = {}\n",
    "count = 0\n",
    "for i in range(50):\n",
    "    pop = Population(ref_seq, pop_size=1, mut_rate=1e-4, rec_rate=0.)\n",
    "    evol = TwoPops(pop)\n",
    "    evol.evolve(1000)\n",
    "    sims[count] = evol.stats\n",
    "    count += 1\n",
    "    print count,"
   ]
  },
  {
   "cell_type": "code",
   "execution_count": null,
   "metadata": {},
   "outputs": [],
   "source": [
    "file = open(\"../stats_50_N_1_u_4\", 'w')\n",
    "pickle.dump(sims, file)\n",
    "file.close()"
   ]
  },
  {
   "cell_type": "code",
   "execution_count": null,
   "metadata": {},
   "outputs": [],
   "source": [
    "D = []\n",
    "for i in sims.keys():\n",
    "    D.append(sims[i]['divergence'])\n",
    "D = np.array(D)"
   ]
  },
  {
   "cell_type": "code",
   "execution_count": null,
   "metadata": {},
   "outputs": [],
   "source": [
    "plt.plot(D.mean(axis=0))"
   ]
  },
  {
   "cell_type": "code",
   "execution_count": null,
   "metadata": {},
   "outputs": [],
   "source": [
    "sims[0]['double_inv']"
   ]
  },
  {
   "cell_type": "code",
   "execution_count": null,
   "metadata": {},
   "outputs": [],
   "source": [
    "single_pop = []\n",
    "for i in sims.keys():\n",
    "    single_pop.append([len(j) for j in sims[i]['single']])\n",
    "single_pop = np.array(single_pop)\n",
    "\n",
    "double_pop = []\n",
    "for i in sims.keys():\n",
    "    double_pop.append([len(j) for j in sims[i]['double']])\n",
    "double_pop = np.array(double_pop)\n",
    "\n",
    "triple_pop = []\n",
    "for i in sims.keys():\n",
    "    triple_pop.append([len(j) for j in sims[i]['triple']])\n",
    "triple_pop = np.array(triple_pop)"
   ]
  },
  {
   "cell_type": "code",
   "execution_count": null,
   "metadata": {},
   "outputs": [],
   "source": [
    "x = np.arange(1, 41, 1)\n",
    "fig = plt.figure(figsize=(10,10))\n",
    "plt.rcParams.update({'font.family': 'Arial'})\n",
    "plt.rcParams.update({'font.size': 40})\n",
    "ax = fig.add_subplot(111)\n",
    "ax.spines['right'].set_visible(True)\n",
    "ax.spines['top'].set_visible(True)\n",
    "ax.spines['bottom'].set_visible(True)\n",
    "ax.spines['left'].set_visible(True)\n",
    "ax.spines['left'].set_linewidth(3)\n",
    "ax.spines['bottom'].set_linewidth(3)\n",
    "ax.spines['right'].set_linewidth(3)\n",
    "ax.spines['top'].set_linewidth(3)\n",
    "ax.spines['bottom'].set_color('black')\n",
    "ax.spines['left'].set_color('black')\n",
    "#ax.spines['left'].set_position(('outward', 15))\n",
    "#ax.spines['bottom'].set_position(('outward', 15))\n",
    "\n",
    "plt.plot(np.mean(single_pop, axis=0), lw=5, label='single')\n",
    "\n",
    "plt.plot(np.mean(double_pop, axis=0), lw=5, label='double')\n",
    "\n",
    "plt.plot(np.mean(triple_pop, axis=0), lw=5, label='triple')\n",
    "\n",
    "ax.grid(True)\n",
    "\n",
    "plt.tick_params(axis='x', which='both', bottom='on', top='off',\n",
    "    labelbottom='on', size=20, width=3, direction='out', pad=25, colors='black')\n",
    "plt.tick_params(axis='y', which='both', left='on', right='off',\n",
    "    labelbottom='on', size=20, width=3, direction='out', pad=25, colors='black')\n",
    "plt.ylabel(r'DMIs', fontsize= 50, labelpad=20)\n",
    "plt.xlabel(r'Generation ($\\times 10^{3}$)', fontsize= 50, labelpad=20)\n",
    "\n",
    "plt.title(r'$N=1, u=10^{-5}, r=0, m=0$', fontsize= 30)\n",
    "ax.xaxis.label.set_color('black')\n",
    "\n",
    "handles, labels = ax.get_legend_handles_labels()\n",
    "ax.legend(handles,labels, loc='best', fontsize='medium', \\\n",
    "          handlelength=0.5, handletextpad=0.4, framealpha=0, labelspacing=0.1,\\\n",
    "          numpoints=1, markerscale=0.3)\n",
    "#plt.text(3.2,11.7, r'q', fontsize= 50, style='italic')\n",
    "#plt.xticks([0, 5, 10, 15, 20],[0, r'$2.5$', r'$5$', r'$7.5$', r'$10$'])\n",
    "#plt.ylim(0, 20)\n",
    "#plt.xlim(0, 10)\n",
    "plt.show()\n",
    "#plt.savefig('/Users/Amfortas/Desktop/cluster/data/figs/DMI_n1000_u1e-5_r1e-5.png', bbox_inches='tight')"
   ]
  },
  {
   "cell_type": "code",
   "execution_count": null,
   "metadata": {},
   "outputs": [],
   "source": []
  },
  {
   "cell_type": "code",
   "execution_count": null,
   "metadata": {},
   "outputs": [],
   "source": [
    "y = ['a', 'b', 'c']"
   ]
  },
  {
   "cell_type": "code",
   "execution_count": null,
   "metadata": {},
   "outputs": [],
   "source": [
    "[rnd.choice(y) for i in range(10)]"
   ]
  },
  {
   "cell_type": "code",
   "execution_count": null,
   "metadata": {},
   "outputs": [],
   "source": [
    "pop = Population(ref_seq, pop_size=10, mut_rate=1e-4, rec_rate=0.)"
   ]
  },
  {
   "cell_type": "code",
   "execution_count": null,
   "metadata": {},
   "outputs": [],
   "source": [
    "evol = TwoPops(pop)"
   ]
  },
  {
   "cell_type": "code",
   "execution_count": null,
   "metadata": {},
   "outputs": [],
   "source": [
    "evol.evolve(2000, verbose=True)"
   ]
  },
  {
   "cell_type": "code",
   "execution_count": null,
   "metadata": {},
   "outputs": [],
   "source": [
    "evol.divergence"
   ]
  },
  {
   "cell_type": "code",
   "execution_count": null,
   "metadata": {},
   "outputs": [],
   "source": [
    "plt.plot(evol.divergence, [len(i) for i in evol.single])"
   ]
  },
  {
   "cell_type": "code",
   "execution_count": null,
   "metadata": {},
   "outputs": [],
   "source": [
    "x = evol.pop1.introgression_assay(evol.pop2)"
   ]
  },
  {
   "cell_type": "code",
   "execution_count": null,
   "metadata": {},
   "outputs": [],
   "source": [
    "evol.pop1.ref_seq.seq"
   ]
  },
  {
   "cell_type": "code",
   "execution_count": null,
   "metadata": {},
   "outputs": [],
   "source": [
    "evol.pop1.ref_seq.get_bp_distance(RNASeq(evol.pop1.wt_seq))"
   ]
  },
  {
   "cell_type": "code",
   "execution_count": null,
   "metadata": {},
   "outputs": [],
   "source": [
    "import uuid"
   ]
  },
  {
   "cell_type": "code",
   "execution_count": null,
   "metadata": {},
   "outputs": [],
   "source": [
    "unique_filename = str(uuid.uuid4())"
   ]
  },
  {
   "cell_type": "code",
   "execution_count": null,
   "metadata": {},
   "outputs": [],
   "source": [
    "unique_filename"
   ]
  },
  {
   "cell_type": "code",
   "execution_count": null,
   "metadata": {},
   "outputs": [],
   "source": [
    "evol.save_stats('/Users/Amfortas/Desktop', 0)"
   ]
  },
  {
   "cell_type": "code",
   "execution_count": null,
   "metadata": {},
   "outputs": [],
   "source": [
    "f = open('/Users/Amfortas/Desktop/stats_0')\n",
    "data = pickle.load(f)\n",
    "f.close()"
   ]
  },
  {
   "cell_type": "code",
   "execution_count": null,
   "metadata": {},
   "outputs": [],
   "source": [
    "data.keys()"
   ]
  },
  {
   "cell_type": "code",
   "execution_count": null,
   "metadata": {},
   "outputs": [],
   "source": [
    "plt.plot(data['divergence'])\n",
    "plt.plot([len(i) for i in data['single']])\n",
    "plt.plot([len(i) for i in data['double']])\n",
    "plt.plot([len(i) for i in data['triple']])\n",
    "#plt.plot(data['double'])"
   ]
  },
  {
   "cell_type": "code",
   "execution_count": null,
   "metadata": {},
   "outputs": [],
   "source": []
  },
  {
   "cell_type": "code",
   "execution_count": null,
   "metadata": {},
   "outputs": [],
   "source": []
  },
  {
   "cell_type": "code",
   "execution_count": null,
   "metadata": {},
   "outputs": [],
   "source": [
    "x = np.arange(1, 41, 1)\n",
    "fig = plt.figure(figsize=(10,10))\n",
    "plt.rcParams.update({'font.family': 'Arial'})\n",
    "plt.rcParams.update({'font.size': 40})\n",
    "ax = fig.add_subplot(111)\n",
    "ax.spines['right'].set_visible(True)\n",
    "ax.spines['top'].set_visible(True)\n",
    "ax.spines['bottom'].set_visible(True)\n",
    "ax.spines['left'].set_visible(True)\n",
    "ax.spines['left'].set_linewidth(3)\n",
    "ax.spines['bottom'].set_linewidth(3)\n",
    "ax.spines['right'].set_linewidth(3)\n",
    "ax.spines['top'].set_linewidth(3)\n",
    "ax.spines['bottom'].set_color('black')\n",
    "ax.spines['left'].set_color('black')\n",
    "#ax.spines['left'].set_position(('outward', 15))\n",
    "#ax.spines['bottom'].set_position(('outward', 15))\n",
    "\n",
    "plt.plot(data['D'], lw=4)\n",
    "\n",
    "\n",
    "plt.tick_params(axis='x', which='both', bottom='on', top='off',\n",
    "    labelbottom='on', size=20, width=3, direction='out', pad=25, colors='black')\n",
    "plt.tick_params(axis='y', which='both', left='on', right='off',\n",
    "    labelbottom='on', size=20, width=3, direction='out', pad=25, colors='black')\n",
    "plt.ylabel(r'$D$', fontsize= 50, labelpad=20)\n",
    "plt.xlabel(r'Time', fontsize= 50, labelpad=20)\n",
    "\n",
    "#plt.xticks([0, 25, 50], [0, 0.5, 1])\n",
    "#plt.yticks([0, 0.5, 1])\n",
    "\n",
    "ax.xaxis.label.set_color('black')\n",
    "\n",
    "handles, labels = ax.get_legend_handles_labels()\n",
    "ax.legend(handles,labels, loc='best', fontsize='medium', \\\n",
    "          handlelength=0.5, handletextpad=0.4, framealpha=0, labelspacing=0.1,\\\n",
    "          numpoints=1, markerscale=0.3)\n",
    "#plt.text(3.2,11.7, r'q', fontsize= 50, style='italic')\n",
    "#plt.ylim(0, 12);\n",
    "plt.show()"
   ]
  },
  {
   "cell_type": "code",
   "execution_count": null,
   "metadata": {},
   "outputs": [],
   "source": []
  }
 ],
 "metadata": {
  "kernelspec": {
   "display_name": "Python 2",
   "language": "python",
   "name": "python2"
  },
  "language_info": {
   "codemirror_mode": {
    "name": "ipython",
    "version": 2
   },
   "file_extension": ".py",
   "mimetype": "text/x-python",
   "name": "python",
   "nbconvert_exporter": "python",
   "pygments_lexer": "ipython2",
   "version": "2.7.15"
  }
 },
 "nbformat": 4,
 "nbformat_minor": 2
}
