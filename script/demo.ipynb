{
 "cells": [
  {
   "cell_type": "markdown",
   "metadata": {},
   "source": [
    "# Individual-based simulation of speciation"
   ]
  },
  {
   "cell_type": "markdown",
   "metadata": {},
   "source": [
    "This code consists of three classes: RNASeq, Population, and TwoPops. Population class represnts a population as a collection of RNASeq objects. "
   ]
  },
  {
   "cell_type": "code",
   "execution_count": 14,
   "metadata": {},
   "outputs": [],
   "source": [
    "run RNA_pop_opt.py"
   ]
  },
  {
   "cell_type": "markdown",
   "metadata": {},
   "source": [
    "#### Reference sequence, i.e., the sequence used to deem any sequence viable or inviable:"
   ]
  },
  {
   "cell_type": "code",
   "execution_count": 8,
   "metadata": {},
   "outputs": [],
   "source": [
    "ref_seq = 'UAGACUAUAAAGUACCGGGAUCUAUUGAAUGUUGGUACCCCUUUCGAGUGAUUGCGCCCCAGUCCGUGAACUAGGAUGCAUAUUUACCUAUUCAGAGGAU'"
   ]
  },
  {
   "cell_type": "code",
   "execution_count": 9,
   "metadata": {},
   "outputs": [],
   "source": [
    "pop = Population(ref_seq, pop_size=50)"
   ]
  },
  {
   "cell_type": "code",
   "execution_count": 10,
   "metadata": {},
   "outputs": [
    {
     "data": {
      "text/plain": [
       "array([[1, 0, 3, ..., 3, 0, 1],\n",
       "       [1, 0, 3, ..., 3, 0, 1],\n",
       "       [1, 0, 3, ..., 3, 0, 1],\n",
       "       ...,\n",
       "       [1, 0, 3, ..., 3, 0, 1],\n",
       "       [1, 0, 3, ..., 3, 0, 1],\n",
       "       [1, 0, 3, ..., 3, 0, 1]])"
      ]
     },
     "execution_count": 10,
     "metadata": {},
     "output_type": "execute_result"
    }
   ],
   "source": [
    "pop.population"
   ]
  },
  {
   "cell_type": "code",
   "execution_count": 11,
   "metadata": {},
   "outputs": [
    {
     "data": {
      "text/plain": [
       "{'UAGACUAUAAAGUACCGGGAUCUAUUGAAUGUUGGUACCCCUUUCGAGUGAUUGCGCCCCAGUCCGUGAACUAGGAUGCAUAUUUACCUAUUCAGAGGAU': 50}"
      ]
     },
     "execution_count": 11,
     "metadata": {},
     "output_type": "execute_result"
    }
   ],
   "source": [
    "pop.genotypes_dic"
   ]
  }
 ],
 "metadata": {
  "kernelspec": {
   "display_name": "Python 2",
   "language": "python",
   "name": "python2"
  },
  "language_info": {
   "codemirror_mode": {
    "name": "ipython",
    "version": 2
   },
   "file_extension": ".py",
   "mimetype": "text/x-python",
   "name": "python",
   "nbconvert_exporter": "python",
   "pygments_lexer": "ipython2",
   "version": "2.7.14"
  }
 },
 "nbformat": 4,
 "nbformat_minor": 2
}
